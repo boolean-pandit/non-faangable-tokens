{
 "cells": [
  {
   "cell_type": "markdown",
   "metadata": {},
   "source": [
    "# Binary Search or Bust\n",
    "> Binary search is useful for searching, but its implementation often leaves us searching for edge cases\n",
    "\n",
    "- toc: true \n",
    "- badges: true\n",
    "- comments: true\n",
    "- categories: [data structures & algorithms, coding interviews, searching]\n",
    "- image: images/binary_search_gif.gif"
   ]
  },
  {
   "cell_type": "markdown",
   "metadata": {},
   "source": [
    "# Why should you care?\n",
    "Binary search is useful for searching through a set of values (which typically are sorted) efficiently. At each step, it reduces the search space by half, thereby running in $O(log(n))$ complexity. While it sounds simple enough to understand, it is deceptively tricky to implement and use in problems. Over the next few sections, let's take a look at binary search and it can be applied to some commonly encountered interview problems."
   ]
  },
  {
   "cell_type": "markdown",
   "metadata": {},
   "source": [
    "# A Recipe for Binary Searching\n",
    "How does binary search reduce the search space by half? It leverages the fact that the input is sorted (_most of the time_) and compares the middle value of the search space at any step with the target value that we're searching for. If the middle value is smaller than the target, then we know that the target can only lie to its right, thus eliminating all the values to the left of the middle value and vice versa. So what information do we need to implement binary search?\n",
    "1. The left and right ends of the search space \n",
    "2. The target value we're searching for\n",
    "3. What to store at each step if any\n",
    "\n",
    "Here's a nice video which walks through the binary search algorithm:\n",
    " > youtube: https://youtu.be/P3YID7liBug\n"
   ]
  },
  {
   "cell_type": "markdown",
   "metadata": {},
   "source": [
    "Next, let's look at an implementation of vanilla binary search. "
   ]
  },
  {
   "cell_type": "code",
   "execution_count": 1,
   "metadata": {},
   "outputs": [],
   "source": [
    "#hide\n",
    "from typing import List, Dict, Tuple "
   ]
  },
  {
   "cell_type": "code",
   "execution_count": 2,
   "metadata": {},
   "outputs": [],
   "source": [
    "def binary_search(nums: List[int], target: int) -> int:\n",
    "    \"\"\"Vanilla Binary Search.\n",
    "     Given a sorted list of integers and a target value,\n",
    "     find the index of the target value in the list.\n",
    "     If not present, return -1.\n",
    "    \"\"\"\n",
    "    # Left and right boundaries of the search space\n",
    "    left, right = 0, len(nums) - 1\n",
    "    while left <= right:\n",
    "        # Why not (left + right) // 2 ?\n",
    "        # Hint: Doesn't matter for Python\n",
    "        middle = left + (right - left) // 2\n",
    "\n",
    "        # Found the target, return the index\n",
    "        if nums[middle] == target:\n",
    "            return middle \n",
    "        # The middle value is less than the\n",
    "        # target, so look to the right\n",
    "        elif nums[middle] < target:\n",
    "            left = middle + 1\n",
    "        # The middle value is greater than the\n",
    "        # target, so look to the left\n",
    "        else:\n",
    "            right = middle - 1\n",
    "    return -1 # Target not found"
   ]
  },
  {
   "cell_type": "markdown",
   "metadata": {},
   "source": [
    "Here're a few examples of running our binary search implementation on a list and target values"
   ]
  },
  {
   "cell_type": "code",
   "execution_count": 3,
   "metadata": {},
   "outputs": [
    {
     "name": "stdout",
     "output_type": "stream",
     "text": [
      "Result of searching for 4 in [1, 4, 9, 54, 100, 123] :         1\n",
      "\n",
      "Result of searching for 100 in [1, 4, 9, 54, 100, 123] :         4\n",
      "\n",
      "Result of searching for 92 in [1, 4, 9, 54, 100, 123] :         -1\n",
      "\n"
     ]
    }
   ],
   "source": [
    "#hide_input\n",
    "nums = [1,4,9,54,100,123]\n",
    "targets = [4, 100, 92]\n",
    "\n",
    "for val in targets:\n",
    "    print(f\"Result of searching for {val} in {nums} : \\\n",
    "        {binary_search(nums, val)}\\n\")\n"
   ]
  },
  {
   "cell_type": "markdown",
   "metadata": {},
   "source": [
    "> Tip: Using the approach middle = left + (right - left) // 2 helps avoid overflow. While this isn&#39;t a concern in Python, it becomes a tricky issue to debug in other programming languages such as C++. For more on overflow, check out this [article](https://ai.googleblog.com/2006/06/extra-extra-read-all-about-it-nearly.html)."
   ]
  },
  {
   "cell_type": "markdown",
   "metadata": {},
   "source": [
    "Before we look at some problems that can be solved using binary search, let's run a quick comparison of linear search and binary search on some large input. "
   ]
  },
  {
   "cell_type": "code",
   "execution_count": 4,
   "metadata": {},
   "outputs": [],
   "source": [
    "def linear_search(nums: List[int], target: int) -> int:\n",
    "    \"\"\"Linear Search.\n",
    "     Given a list of integers and a target value, return\n",
    "     find the index of the target value in the list.\n",
    "     If not present, return -1.\n",
    "    \"\"\"\n",
    "    for idx, elem in enumerate(nums):\n",
    "        # Found the target value\n",
    "        if elem == target:\n",
    "            return idx \n",
    "    return -1 # Target not found"
   ]
  },
  {
   "cell_type": "code",
   "execution_count": 5,
   "metadata": {},
   "outputs": [],
   "source": [
    "#hide\n",
    "n = 1000000\n",
    "large_nums = range((1, n + 1))\n",
    "target = 99999"
   ]
  },
  {
   "cell_type": "markdown",
   "metadata": {},
   "source": [
    "Let's see the time it takes linear search and binary search to find $99999$ in a sorted list of numbers from $[1, 1000000]$"
   ]
  },
  {
   "cell_type": "markdown",
   "metadata": {},
   "source": [
    "- Linear Search"
   ]
  },
  {
   "cell_type": "code",
   "execution_count": 6,
   "metadata": {},
   "outputs": [
    {
     "name": "stdout",
     "output_type": "stream",
     "text": [
      "5.19 ms ± 26.3 µs per loop (mean ± std. dev. of 7 runs, 100 loops each)\n"
     ]
    }
   ],
   "source": [
    "#hide_input\n",
    "%timeit linear_search(large_nums, target)"
   ]
  },
  {
   "cell_type": "markdown",
   "metadata": {},
   "source": [
    "- Binary Search"
   ]
  },
  {
   "cell_type": "code",
   "execution_count": 7,
   "metadata": {},
   "outputs": [
    {
     "name": "stdout",
     "output_type": "stream",
     "text": [
      "6.05 µs ± 46.9 ns per loop (mean ± std. dev. of 7 runs, 100000 loops each)\n"
     ]
    }
   ],
   "source": [
    "#hide_input\n",
    "%timeit binary_search(large_nums, target)"
   ]
  },
  {
   "cell_type": "markdown",
   "metadata": {},
   "source": [
    "Hopefully, that drives the point home :wink:."
   ]
  },
  {
   "cell_type": "markdown",
   "metadata": {},
   "source": [
    "# Naïve Binary Search Problems\n",
    "Here's a list of problems that can be solved using vanilla binary search (or slightly modifying it). Anytime you see a problem statement which goes something like _\"Given a sorted list..\"_ or _\"Find the position of an element\"_, think of using binary search. You can also consider **sorting** the input in case it is an unordered collection of items to reduce it to a binary search problem. Note that this list is by no means exhaustive, but is a good starting point to practice binary search:\n",
    "- [Search Insert Position](https://leetcode.com/problems/search-insert-position/\n",
    ")\n",
    "- [Find the Square Root of x](https://leetcode.com/problems/sqrtx/)\n",
    "- [Find First and Last Position of Element in Sorted Array](https://leetcode.com/problems/find-first-and-last-position-of-element-in-sorted-array/)\n",
    "- [Search in a Rotated Sorted Array](https://leetcode.com/problems/search-in-rotated-sorted-array/)\n",
    "\n",
    "In the problems above, we can either directly apply binary search or adapt it slightly to solve the problem. For example, take the square root problem. We know that the square root of a positive number $n$ has to lie between $[1, n / 2]$. This gives us the bounds for the search space. Applying binary search over this space allows us to find the a good approximation of the square root. See the implementation below for details:"
   ]
  },
  {
   "cell_type": "code",
   "execution_count": 12,
   "metadata": {},
   "outputs": [],
   "source": [
    "def find_square_root(n: int) -> int:\n",
    "    \"\"\"Integer square root.\n",
    "     Given a positive integer, return\n",
    "     its square root.\n",
    "    \"\"\"\n",
    "    left, right = 1, n // 2 + 1\n",
    "\n",
    "    while left <= right:\n",
    "        middle = left + (right - left) // 2\n",
    "        if middle * middle == n:\n",
    "            return middle # Found an exact match\n",
    "        elif middle * middle < n:\n",
    "            left = middle + 1 # Go right\n",
    "        else:\n",
    "            right = middle - 1 # Go left\n",
    "    \n",
    "    return right # This is the closest value to the actual square root"
   ]
  },
  {
   "cell_type": "code",
   "execution_count": 14,
   "metadata": {},
   "outputs": [
    {
     "name": "stdout",
     "output_type": "stream",
     "text": [
      "Square root of 1 is: 1\n",
      "\n",
      "Square root of 4 is: 2\n",
      "\n",
      "Square root of 8 is: 2\n",
      "\n",
      "Square root of 33 is: 5\n",
      "\n",
      "Square root of 100 is: 10\n",
      "\n"
     ]
    }
   ],
   "source": [
    "#hide_input\n",
    "nums = [1,4,8,33,100]\n",
    "\n",
    "for val in nums:\n",
    "    print(f\"Square root of {val} is: {find_square_root(val)}\\n\")"
   ]
  },
  {
   "cell_type": "markdown",
   "metadata": {},
   "source": [
    "# To Be Continued\n",
    "- Applying binary search to unordered data\n",
    "- Problems where using binary search isn't obvious"
   ]
  },
  {
   "cell_type": "code",
   "execution_count": null,
   "metadata": {},
   "outputs": [],
   "source": []
  }
 ],
 "metadata": {
  "interpreter": {
   "hash": "c0cf7bc9db930ec8ccf870c93ec3d2fc903810be78440eb50ba58bdff979f8ea"
  },
  "kernelspec": {
   "display_name": "visualization-curriculum-gF8wUgMm",
   "language": "python",
   "name": "python3"
  },
  "language_info": {
   "codemirror_mode": {
    "name": "ipython",
    "version": 3
   },
   "file_extension": ".py",
   "mimetype": "text/x-python",
   "name": "python",
   "nbconvert_exporter": "python",
   "pygments_lexer": "ipython3",
   "version": "3.7.7"
  },
  "varInspector": {
   "cols": {
    "lenName": 16,
    "lenType": 16,
    "lenVar": 40
   },
   "kernels_config": {
    "python": {
     "delete_cmd_postfix": "",
     "delete_cmd_prefix": "del ",
     "library": "var_list.py",
     "varRefreshCmd": "print(var_dic_list())"
    },
    "r": {
     "delete_cmd_postfix": ") ",
     "delete_cmd_prefix": "rm(",
     "library": "var_list.r",
     "varRefreshCmd": "cat(var_dic_list()) "
    }
   },
   "types_to_exclude": [
    "module",
    "function",
    "builtin_function_or_method",
    "instance",
    "_Feature"
   ],
   "window_display": false
  }
 },
 "nbformat": 4,
 "nbformat_minor": 4
}
